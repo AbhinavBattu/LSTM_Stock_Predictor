{
 "cells": [
  {
   "cell_type": "code",
   "execution_count": 2,
   "id": "eeb1d098-f9f5-4214-96d0-e9234b273eae",
   "metadata": {},
   "outputs": [],
   "source": [
    "import pandas_datareader as pdr"
   ]
  },
  {
   "cell_type": "code",
   "execution_count": 6,
   "id": "fb8a3874-ebac-43dd-8582-284bb1cd53c8",
   "metadata": {},
   "outputs": [
    {
     "name": "stdout",
     "output_type": "stream",
     "text": [
      "Collecting git+https://github.com/pydata/pandas-datareader.git\n",
      "  Cloning https://github.com/pydata/pandas-datareader.git to c:\\users\\abhinav\\appdata\\local\\temp\\pip-req-build-7q6kv9zw\n",
      "  Resolved https://github.com/pydata/pandas-datareader.git to commit a1cf7a20fe03dd63e930fa5ca1311a57897c9ddd\n",
      "  Installing build dependencies: started\n",
      "  Installing build dependencies: finished with status 'done'\n",
      "  Getting requirements to build wheel: started\n",
      "  Getting requirements to build wheel: finished with status 'done'\n",
      "  Preparing metadata (pyproject.toml): started\n",
      "  Preparing metadata (pyproject.toml): finished with status 'done'\n",
      "Requirement already satisfied: lxml in c:\\users\\abhinav\\appdata\\local\\programs\\python\\python312\\lib\\site-packages (from pandas-datareader==0.11.0.dev55+ga1cf7a2) (5.1.0)\n",
      "Requirement already satisfied: pandas>=1.5.3 in c:\\users\\abhinav\\appdata\\local\\programs\\python\\python312\\lib\\site-packages (from pandas-datareader==0.11.0.dev55+ga1cf7a2) (2.2.1)\n",
      "Requirement already satisfied: requests>=2.19.0 in c:\\users\\abhinav\\appdata\\local\\programs\\python\\python312\\lib\\site-packages (from pandas-datareader==0.11.0.dev55+ga1cf7a2) (2.31.0)\n",
      "Requirement already satisfied: numpy<2,>=1.26.0 in c:\\users\\abhinav\\appdata\\local\\programs\\python\\python312\\lib\\site-packages (from pandas>=1.5.3->pandas-datareader==0.11.0.dev55+ga1cf7a2) (1.26.4)\n",
      "Requirement already satisfied: python-dateutil>=2.8.2 in c:\\users\\abhinav\\appdata\\local\\programs\\python\\python312\\lib\\site-packages (from pandas>=1.5.3->pandas-datareader==0.11.0.dev55+ga1cf7a2) (2.9.0.post0)\n",
      "Requirement already satisfied: pytz>=2020.1 in c:\\users\\abhinav\\appdata\\local\\programs\\python\\python312\\lib\\site-packages (from pandas>=1.5.3->pandas-datareader==0.11.0.dev55+ga1cf7a2) (2024.1)\n",
      "Requirement already satisfied: tzdata>=2022.7 in c:\\users\\abhinav\\appdata\\local\\programs\\python\\python312\\lib\\site-packages (from pandas>=1.5.3->pandas-datareader==0.11.0.dev55+ga1cf7a2) (2024.1)\n",
      "Requirement already satisfied: charset-normalizer<4,>=2 in c:\\users\\abhinav\\appdata\\local\\programs\\python\\python312\\lib\\site-packages (from requests>=2.19.0->pandas-datareader==0.11.0.dev55+ga1cf7a2) (3.3.2)\n",
      "Requirement already satisfied: idna<4,>=2.5 in c:\\users\\abhinav\\appdata\\local\\programs\\python\\python312\\lib\\site-packages (from requests>=2.19.0->pandas-datareader==0.11.0.dev55+ga1cf7a2) (3.6)\n",
      "Requirement already satisfied: urllib3<3,>=1.21.1 in c:\\users\\abhinav\\appdata\\local\\programs\\python\\python312\\lib\\site-packages (from requests>=2.19.0->pandas-datareader==0.11.0.dev55+ga1cf7a2) (2.2.1)\n",
      "Requirement already satisfied: certifi>=2017.4.17 in c:\\users\\abhinav\\appdata\\local\\programs\\python\\python312\\lib\\site-packages (from requests>=2.19.0->pandas-datareader==0.11.0.dev55+ga1cf7a2) (2024.2.2)\n",
      "Requirement already satisfied: six>=1.5 in c:\\users\\abhinav\\appdata\\local\\programs\\python\\python312\\lib\\site-packages (from python-dateutil>=2.8.2->pandas>=1.5.3->pandas-datareader==0.11.0.dev55+ga1cf7a2) (1.16.0)\n",
      "Building wheels for collected packages: pandas-datareader\n",
      "  Building wheel for pandas-datareader (pyproject.toml): started\n",
      "  Building wheel for pandas-datareader (pyproject.toml): finished with status 'done'\n",
      "  Created wheel for pandas-datareader: filename=pandas_datareader-0.11.0.dev55+ga1cf7a2-py3-none-any.whl size=115250 sha256=135092179978143b12e78cbc429054b898c5f365b58b569c2018991c2f837073\n",
      "  Stored in directory: C:\\Users\\Abhinav\\AppData\\Local\\Temp\\pip-ephem-wheel-cache-bsazm87t\\wheels\\68\\09\\2b\\66ff2e878a27988531be41d35ba4495de3d8f800ebb5de1c07\n",
      "Successfully built pandas-datareader\n",
      "Installing collected packages: pandas-datareader\n",
      "  Attempting uninstall: pandas-datareader\n",
      "    Found existing installation: pandas-datareader 0.10.0\n",
      "    Uninstalling pandas-datareader-0.10.0:\n",
      "      Successfully uninstalled pandas-datareader-0.10.0\n",
      "Successfully installed pandas-datareader-0.11.0.dev55+ga1cf7a2\n",
      "Note: you may need to restart the kernel to use updated packages.\n"
     ]
    },
    {
     "name": "stderr",
     "output_type": "stream",
     "text": [
      "  Running command git clone --filter=blob:none --quiet https://github.com/pydata/pandas-datareader.git 'C:\\Users\\Abhinav\\AppData\\Local\\Temp\\pip-req-build-7q6kv9zw'\n"
     ]
    }
   ],
   "source": [
    "pip install git+https://github.com/pydata/pandas-datareader.git"
   ]
  },
  {
   "cell_type": "code",
   "execution_count": 3,
   "id": "0ed7d85c-2080-445e-9279-d0abd431426f",
   "metadata": {
    "scrolled": true
   },
   "outputs": [],
   "source": [
    "df=pdr.get_data_tiingo('AAPL',api_key='995ac16635e3ab84371b02e6bceb31afa3c56db2')"
   ]
  },
  {
   "cell_type": "code",
   "execution_count": 5,
   "id": "d285da7a-f455-4772-88d0-b3678155ebcb",
   "metadata": {},
   "outputs": [
    {
     "name": "stdout",
     "output_type": "stream",
     "text": [
      "0.11.0.dev55+ga1cf7a2\n"
     ]
    }
   ],
   "source": [
    "print(pdr.__version__)"
   ]
  },
  {
   "cell_type": "code",
   "execution_count": 1,
   "id": "4f783516-0fe6-4821-9539-437b28ee08d6",
   "metadata": {},
   "outputs": [],
   "source": [
    "import pandas as pd"
   ]
  },
  {
   "cell_type": "code",
   "execution_count": 8,
   "id": "e2e4b7f4-e028-4abf-8518-6566a7a41fba",
   "metadata": {},
   "outputs": [],
   "source": [
    "df.to_csv('AAPL.csv')"
   ]
  },
  {
   "cell_type": "code",
   "execution_count": 2,
   "id": "7aee91d4-f765-4931-a9a9-13da3f11d33c",
   "metadata": {},
   "outputs": [],
   "source": [
    "df=pd.read_csv('AAPL.csv')"
   ]
  },
  {
   "cell_type": "code",
   "execution_count": 10,
   "id": "0bb3dd4b-fb2a-4a28-b26b-e9ea8b9b7aef",
   "metadata": {},
   "outputs": [
    {
     "name": "stdout",
     "output_type": "stream",
     "text": [
      "  symbol                       date   close    high     low    open    volume  \\\n",
      "0   AAPL  2019-04-02 00:00:00+00:00  194.02  194.46  191.05  191.09  22765732   \n",
      "1   AAPL  2019-04-03 00:00:00+00:00  195.35  196.50  193.15  193.25  23271830   \n",
      "2   AAPL  2019-04-04 00:00:00+00:00  195.69  196.37  193.14  194.79  19114275   \n",
      "3   AAPL  2019-04-05 00:00:00+00:00  197.00  197.10  195.93  196.45  18526644   \n",
      "4   AAPL  2019-04-08 00:00:00+00:00  200.10  200.23  196.34  196.42  25881697   \n",
      "\n",
      "    adjClose    adjHigh     adjLow    adjOpen  adjVolume  divCash  splitFactor  \n",
      "0  46.694252  46.800145  45.979470  45.989097   91062928      0.0          1.0  \n",
      "1  47.014339  47.291106  46.484871  46.508938   93087320      0.0          1.0  \n",
      "2  47.096166  47.259819  46.482464  46.879565   76457100      0.0          1.0  \n",
      "3  47.411440  47.435507  47.153926  47.279073   74106576      0.0          1.0  \n",
      "4  48.157508  48.188795  47.252599  47.271853  103526788      0.0          1.0  \n"
     ]
    }
   ],
   "source": [
    "print(df.head())"
   ]
  },
  {
   "cell_type": "code",
   "execution_count": 3,
   "id": "b72fe790-79aa-44b4-8a79-7bdb2d585655",
   "metadata": {},
   "outputs": [],
   "source": [
    "df1=df.reset_index()['close']"
   ]
  },
  {
   "cell_type": "code",
   "execution_count": 4,
   "id": "bb607c5d-549a-4848-b663-b9097c88349d",
   "metadata": {},
   "outputs": [
    {
     "data": {
      "text/plain": [
       "[<matplotlib.lines.Line2D at 0x163044bae10>]"
      ]
     },
     "execution_count": 4,
     "metadata": {},
     "output_type": "execute_result"
    },
    {
     "data": {
      "image/png": "[encoded data removed]",
      "text/plain": [
       "<Figure size 640x480 with 1 Axes>"
      ]
     },
     "metadata": {},
     "output_type": "display_data"
    }
   ],
   "source": [
    "import matplotlib.pyplot as plt\n",
    "plt.plot(df1)"
   ]
  },
  {
   "cell_type": "code",
   "execution_count": 5,
   "id": "6a977b9b-d4a6-4bde-8280-1d69e3155945",
   "metadata": {},
   "outputs": [],
   "source": [
    "import numpy as np"
   ]
  },
  {
   "cell_type": "code",
   "execution_count": 7,
   "id": "14857f22-240d-43dd-bef9-834f14a127c3",
   "metadata": {},
   "outputs": [
    {
     "data": {
      "text/plain": [
       "0       194.02\n",
       "1       195.35\n",
       "2       195.69\n",
       "3       197.00\n",
       "4       200.10\n",
       "         ...  \n",
       "1252    172.28\n",
       "1253    170.85\n",
       "1254    169.71\n",
       "1255    173.31\n",
       "1256    171.48\n",
       "Name: close, Length: 1257, dtype: float64"
      ]
     },
     "execution_count": 7,
     "metadata": {},
     "output_type": "execute_result"
    }
   ],
   "source": [
    "df1"
   ]
  },
  {
   "cell_type": "code",
   "execution_count": null,
   "id": "0bc6fd16-677c-4ba9-9f48-51af349bc758",
   "metadata": {},
   "outputs": [],
   "source": [
    "pip install scikit-learn"
   ]
  },
  {
   "cell_type": "code",
   "execution_count": 1,
   "id": "00f1e715-75c1-44a5-97f7-513d07ce6004",
   "metadata": {},
   "outputs": [
    {
     "name": "stdout",
     "output_type": "stream",
     "text": [
      "Note: you may need to restart the kernel to use updated packages.\n"
     ]
    },
    {
     "name": "stderr",
     "output_type": "stream",
     "text": [
      "WARNING: Package(s) not found: sklearn\n"
     ]
    }
   ],
   "source": [
    "pip show sklearn"
   ]
  },
  {
   "cell_type": "code",
   "execution_count": 6,
   "id": "1be3f758-511a-448f-bcec-ad7c55b57750",
   "metadata": {},
   "outputs": [],
   "source": [
    "from sklearn.preprocessing import MinMaxScaler\n",
    "scaler=MinMaxScaler(feature_range=(0,1))\n",
    "df1=scaler.fit_transform(np.array(df1).reshape(-1,1))"
   ]
  },
  {
   "cell_type": "code",
   "execution_count": 11,
   "id": "139ab0dc-1c45-49c4-84ee-5ac567388de3",
   "metadata": {},
   "outputs": [
    {
     "data": {
      "text/plain": [
       "array([[0.21835942],\n",
       "       [0.22169067],\n",
       "       [0.22254227],\n",
       "       ...,\n",
       "       [0.15747026],\n",
       "       [0.16648716],\n",
       "       [0.16190357]])"
      ]
     },
     "execution_count": 11,
     "metadata": {},
     "output_type": "execute_result"
    }
   ],
   "source": [
    "df1"
   ]
  },
  {
   "cell_type": "code",
   "execution_count": 7,
   "id": "ce27a2b5-e4db-4ab5-a93a-305c07f22091",
   "metadata": {},
   "outputs": [],
   "source": [
    "training_size=int(len(df1)*0.65)\n",
    "test_size=len(df1)-training_size\n",
    "train_data,test_data=df1[0:training_size,:],df1[training_size:len(df1),:1]"
   ]
  },
  {
   "cell_type": "code",
   "execution_count": 8,
   "id": "bf10d982-1bec-47a9-b72b-8140f9892ce2",
   "metadata": {},
   "outputs": [
    {
     "data": {
      "text/plain": [
       "(817, 440)"
      ]
     },
     "execution_count": 8,
     "metadata": {},
     "output_type": "execute_result"
    }
   ],
   "source": [
    "len(train_data),len(test_data)"
   ]
  },
  {
   "cell_type": "code",
   "execution_count": 11,
   "id": "62c4f70e-e469-4f99-9030-d106216360e2",
   "metadata": {},
   "outputs": [],
   "source": [
    "import numpy\n",
    "def create_dataset(dataset,time_step=1):\n",
    "    dataX, dataY= [],[]\n",
    "    for i in range(len(dataset)-time_step-1):\n",
    "        a=dataset[i:(i+time_step),0]\n",
    "        dataX.append(a)\n",
    "        dataY.append(dataset[i+time_step,0])\n",
    "    return numpy.array(dataX), numpy.array(dataY)"
   ]
  },
  {
   "cell_type": "code",
   "execution_count": 12,
   "id": "5f52879e-de66-421e-b789-ee025ba51e0d",
   "metadata": {},
   "outputs": [],
   "source": [
    "time_step=100\n",
    "x_train,y_train =create_dataset(train_data,time_step)\n",
    "x_test,y_test=create_dataset(test_data,time_step)"
   ]
  },
  {
   "cell_type": "raw",
   "id": "d38fc487-cba2-4b54-9e3d-bca36fa8fe81",
   "metadata": {},
   "source": [
    "print(x_train)"
   ]
  },
  {
   "cell_type": "code",
   "execution_count": 13,
   "id": "cb16023d-9731-43fb-9a9c-9b380e0eaa33",
   "metadata": {},
   "outputs": [
    {
     "data": {
      "text/plain": [
       "array([[0.21835942, 0.22169067, 0.22254227, ..., 0.25928616, 0.26499687,\n",
       "        0.26454602],\n",
       "       [0.22169067, 0.22254227, 0.22582342, ..., 0.26499687, 0.26454602,\n",
       "        0.23994991],\n",
       "       [0.22254227, 0.22582342, 0.23358798, ..., 0.26454602, 0.23994991,\n",
       "        0.24959299],\n",
       "       ...,\n",
       "       [0.15902317, 0.17016907, 0.16974327, ..., 0.06191609, 0.07271133,\n",
       "        0.07140889],\n",
       "       [0.17016907, 0.16974327, 0.17282405, ..., 0.07271133, 0.07140889,\n",
       "        0.0787226 ],\n",
       "       [0.16974327, 0.17282405, 0.16546024, ..., 0.07140889, 0.0787226 ,\n",
       "        0.08721353]])"
      ]
     },
     "execution_count": 13,
     "metadata": {},
     "output_type": "execute_result"
    }
   ],
   "source": [
    "x_train"
   ]
  },
  {
   "cell_type": "code",
   "execution_count": 15,
   "id": "10b092f7-0e26-4cae-b8f2-60c9adf98c72",
   "metadata": {},
   "outputs": [
    {
     "name": "stdout",
     "output_type": "stream",
     "text": [
      "(716, 100)\n"
     ]
    }
   ],
   "source": [
    "print(x_train.shape)"
   ]
  },
  {
   "cell_type": "code",
   "execution_count": 16,
   "id": "18b13999-6b44-430d-a881-95dce14e03a6",
   "metadata": {},
   "outputs": [],
   "source": [
    "x_train=x_train.reshape(x_train.shape[0],x_train.shape[1],1)\n",
    "x_test=x_test.reshape(x_test.shape[0],x_test.shape[1],1)"
   ]
  },
  {
   "cell_type": "code",
   "execution_count": 19,
   "id": "286bb616-2703-44f4-b940-009c43ded697",
   "metadata": {},
   "outputs": [
    {
     "name": "stdout",
     "output_type": "stream",
     "text": [
      "Collecting tensorflowNote: you may need to restart the kernel to use updated packages.\n",
      "\n",
      "  Downloading tensorflow-2.16.1-cp312-cp312-win_amd64.whl.metadata (3.5 kB)\n",
      "Collecting tensorflow-intel==2.16.1 (from tensorflow)\n",
      "  Downloading tensorflow_intel-2.16.1-cp312-cp312-win_amd64.whl.metadata (5.0 kB)\n",
      "Collecting absl-py>=1.0.0 (from tensorflow-intel==2.16.1->tensorflow)\n",
      "  Downloading absl_py-2.1.0-py3-none-any.whl.metadata (2.3 kB)\n",
      "Collecting astunparse>=1.6.0 (from tensorflow-intel==2.16.1->tensorflow)\n",
      "  Downloading astunparse-1.6.3-py2.py3-none-any.whl.metadata (4.4 kB)\n",
      "Collecting flatbuffers>=23.5.26 (from tensorflow-intel==2.16.1->tensorflow)\n",
      "  Downloading flatbuffers-24.3.25-py2.py3-none-any.whl.metadata (850 bytes)\n",
      "Collecting gast!=0.5.0,!=0.5.1,!=0.5.2,>=0.2.1 (from tensorflow-intel==2.16.1->tensorflow)\n",
      "  Downloading gast-0.5.4-py3-none-any.whl.metadata (1.3 kB)\n",
      "Collecting google-pasta>=0.1.1 (from tensorflow-intel==2.16.1->tensorflow)\n",
      "  Downloading google_pasta-0.2.0-py3-none-any.whl.metadata (814 bytes)\n",
      "Collecting h5py>=3.10.0 (from tensorflow-intel==2.16.1->tensorflow)\n",
      "  Downloading h5py-3.10.0-cp312-cp312-win_amd64.whl.metadata (2.5 kB)\n",
      "Collecting libclang>=13.0.0 (from tensorflow-intel==2.16.1->tensorflow)\n",
      "  Downloading libclang-18.1.1-py2.py3-none-win_amd64.whl.metadata (5.3 kB)\n",
      "Collecting ml-dtypes~=0.3.1 (from tensorflow-intel==2.16.1->tensorflow)\n",
      "  Downloading ml_dtypes-0.3.2-cp312-cp312-win_amd64.whl.metadata (20 kB)\n",
      "Collecting opt-einsum>=2.3.2 (from tensorflow-intel==2.16.1->tensorflow)\n",
      "  Downloading opt_einsum-3.3.0-py3-none-any.whl.metadata (6.5 kB)\n",
      "Requirement already satisfied: packaging in c:\\users\\abhinav\\appdata\\local\\programs\\python\\python312\\lib\\site-packages (from tensorflow-intel==2.16.1->tensorflow) (24.0)\n",
      "Collecting protobuf!=4.21.0,!=4.21.1,!=4.21.2,!=4.21.3,!=4.21.4,!=4.21.5,<5.0.0dev,>=3.20.3 (from tensorflow-intel==2.16.1->tensorflow)\n",
      "  Downloading protobuf-4.25.3-cp310-abi3-win_amd64.whl.metadata (541 bytes)\n",
      "Requirement already satisfied: requests<3,>=2.21.0 in c:\\users\\abhinav\\appdata\\local\\programs\\python\\python312\\lib\\site-packages (from tensorflow-intel==2.16.1->tensorflow) (2.31.0)\n",
      "Requirement already satisfied: setuptools in c:\\users\\abhinav\\appdata\\local\\programs\\python\\python312\\lib\\site-packages (from tensorflow-intel==2.16.1->tensorflow) (69.2.0)\n",
      "Requirement already satisfied: six>=1.12.0 in c:\\users\\abhinav\\appdata\\local\\programs\\python\\python312\\lib\\site-packages (from tensorflow-intel==2.16.1->tensorflow) (1.16.0)\n",
      "Collecting termcolor>=1.1.0 (from tensorflow-intel==2.16.1->tensorflow)\n",
      "  Downloading termcolor-2.4.0-py3-none-any.whl.metadata (6.1 kB)\n",
      "Collecting typing-extensions>=3.6.6 (from tensorflow-intel==2.16.1->tensorflow)\n",
      "  Using cached typing_extensions-4.10.0-py3-none-any.whl.metadata (3.0 kB)\n",
      "Collecting wrapt>=1.11.0 (from tensorflow-intel==2.16.1->tensorflow)\n",
      "  Downloading wrapt-1.16.0-cp312-cp312-win_amd64.whl.metadata (6.8 kB)\n",
      "Collecting grpcio<2.0,>=1.24.3 (from tensorflow-intel==2.16.1->tensorflow)\n",
      "  Downloading grpcio-1.62.1-cp312-cp312-win_amd64.whl.metadata (4.2 kB)\n",
      "Collecting tensorboard<2.17,>=2.16 (from tensorflow-intel==2.16.1->tensorflow)\n",
      "  Downloading tensorboard-2.16.2-py3-none-any.whl.metadata (1.6 kB)\n",
      "Collecting keras>=3.0.0 (from tensorflow-intel==2.16.1->tensorflow)\n",
      "  Downloading keras-3.1.1-py3-none-any.whl.metadata (5.6 kB)\n",
      "Requirement already satisfied: numpy<2.0.0,>=1.26.0 in c:\\users\\abhinav\\appdata\\local\\programs\\python\\python312\\lib\\site-packages (from tensorflow-intel==2.16.1->tensorflow) (1.26.4)\n",
      "Collecting wheel<1.0,>=0.23.0 (from astunparse>=1.6.0->tensorflow-intel==2.16.1->tensorflow)\n",
      "  Using cached wheel-0.43.0-py3-none-any.whl.metadata (2.2 kB)\n",
      "Collecting rich (from keras>=3.0.0->tensorflow-intel==2.16.1->tensorflow)\n",
      "  Downloading rich-13.7.1-py3-none-any.whl.metadata (18 kB)\n",
      "Collecting namex (from keras>=3.0.0->tensorflow-intel==2.16.1->tensorflow)\n",
      "  Downloading namex-0.0.7-py3-none-any.whl.metadata (246 bytes)\n",
      "Collecting optree (from keras>=3.0.0->tensorflow-intel==2.16.1->tensorflow)\n",
      "  Downloading optree-0.11.0-cp312-cp312-win_amd64.whl.metadata (46 kB)\n",
      "     ---------------------------------------- 0.0/46.2 kB ? eta -:--:--\n",
      "     -------- ------------------------------- 10.2/46.2 kB ? eta -:--:--\n",
      "     -------------------------------------- 46.2/46.2 kB 580.2 kB/s eta 0:00:00\n",
      "Requirement already satisfied: charset-normalizer<4,>=2 in c:\\users\\abhinav\\appdata\\local\\programs\\python\\python312\\lib\\site-packages (from requests<3,>=2.21.0->tensorflow-intel==2.16.1->tensorflow) (3.3.2)\n",
      "Requirement already satisfied: idna<4,>=2.5 in c:\\users\\abhinav\\appdata\\local\\programs\\python\\python312\\lib\\site-packages (from requests<3,>=2.21.0->tensorflow-intel==2.16.1->tensorflow) (3.6)\n",
      "Requirement already satisfied: urllib3<3,>=1.21.1 in c:\\users\\abhinav\\appdata\\local\\programs\\python\\python312\\lib\\site-packages (from requests<3,>=2.21.0->tensorflow-intel==2.16.1->tensorflow) (2.2.1)\n",
      "Requirement already satisfied: certifi>=2017.4.17 in c:\\users\\abhinav\\appdata\\local\\programs\\python\\python312\\lib\\site-packages (from requests<3,>=2.21.0->tensorflow-intel==2.16.1->tensorflow) (2024.2.2)\n",
      "Collecting markdown>=2.6.8 (from tensorboard<2.17,>=2.16->tensorflow-intel==2.16.1->tensorflow)\n",
      "  Downloading Markdown-3.6-py3-none-any.whl.metadata (7.0 kB)\n",
      "Collecting tensorboard-data-server<0.8.0,>=0.7.0 (from tensorboard<2.17,>=2.16->tensorflow-intel==2.16.1->tensorflow)\n",
      "  Downloading tensorboard_data_server-0.7.2-py3-none-any.whl.metadata (1.1 kB)\n",
      "Collecting werkzeug>=1.0.1 (from tensorboard<2.17,>=2.16->tensorflow-intel==2.16.1->tensorflow)\n",
      "  Downloading werkzeug-3.0.1-py3-none-any.whl.metadata (4.1 kB)\n",
      "Requirement already satisfied: MarkupSafe>=2.1.1 in c:\\users\\abhinav\\appdata\\local\\programs\\python\\python312\\lib\\site-packages (from werkzeug>=1.0.1->tensorboard<2.17,>=2.16->tensorflow-intel==2.16.1->tensorflow) (2.1.5)\n",
      "Collecting markdown-it-py>=2.2.0 (from rich->keras>=3.0.0->tensorflow-intel==2.16.1->tensorflow)\n",
      "  Downloading markdown_it_py-3.0.0-py3-none-any.whl.metadata (6.9 kB)\n",
      "Requirement already satisfied: pygments<3.0.0,>=2.13.0 in c:\\users\\abhinav\\appdata\\local\\programs\\python\\python312\\lib\\site-packages (from rich->keras>=3.0.0->tensorflow-intel==2.16.1->tensorflow) (2.17.2)\n",
      "Collecting mdurl~=0.1 (from markdown-it-py>=2.2.0->rich->keras>=3.0.0->tensorflow-intel==2.16.1->tensorflow)\n",
      "  Downloading mdurl-0.1.2-py3-none-any.whl.metadata (1.6 kB)\n",
      "Downloading tensorflow-2.16.1-cp312-cp312-win_amd64.whl (2.1 kB)\n",
      "Downloading tensorflow_intel-2.16.1-cp312-cp312-win_amd64.whl (377.1 MB)\n",
      "   ---------------- ----------------------- 151.6/377.1 MB 1.6 MB/s eta 0:02:21\n",
      "   ---------------- ----------------------- 151.6/377.1 MB 1.6 MB/s eta 0:02:21\n",
      "   ---------------- ----------------------- 151.7/377.1 MB 1.6 MB/s eta 0:02:21\n",
      "   ---------------- ----------------------- 151.8/377.1 MB 1.6 MB/s eta 0:02:21\n",
      "   ---------------- ----------------------- 151.9/377.1 MB 1.6 MB/s eta 0:02:21\n",
      "   ---------------- ----------------------- 152.0/377.1 MB 1.6 MB/s eta 0:02:21\n",
      "   -------------------------------------- - 359.4/377.1 MB 1.5 MB/s eta 0:00:12\n",
      "   -------------------------------------- - 359.4/377.1 MB 1.5 MB/s eta 0:00:12\n",
      "   -------------------------------------- - 359.4/377.1 MB 1.5 MB/s eta 0:00:12\n",
      "   ----------------------------------- ---- 2.3/2.7 MB 2.4 MB/s eta 0:00:01\n",
      "Installing collected packages: namex, libclang, flatbuffers, wrapt, wheel, werkzeug, typing-extensions, termcolor, tensorboard-data-server, protobuf, opt-einsum, ml-dtypes, mdurl, markdown, h5py, grpcio, google-pasta, gast, absl-py, tensorboard, optree, markdown-it-py, astunparse, rich, keras, tensorflow-intel, tensorflow\n",
      "Successfully installed absl-py-2.1.0 astunparse-1.6.3 flatbuffers-24.3.25 gast-0.5.4 google-pasta-0.2.0 grpcio-1.62.1 h5py-3.10.0 keras-3.1.1 libclang-18.1.1 markdown-3.6 markdown-it-py-3.0.0 mdurl-0.1.2 ml-dtypes-0.3.2 namex-0.0.7 opt-einsum-3.3.0 optree-0.11.0 protobuf-4.25.3 rich-13.7.1 tensorboard-2.16.2 tensorboard-data-server-0.7.2 tensorflow-2.16.1 tensorflow-intel-2.16.1 termcolor-2.4.0 typing-extensions-4.10.0 werkzeug-3.0.1 wheel-0.43.0 wrapt-1.16.0\n"
     ]
    }
   ],
   "source": [
    "pip install tensorflow"
   ]
  },
  {
   "cell_type": "code",
   "execution_count": 20,
   "id": "d65411cc-4f17-4997-9f42-45e3f453e346",
   "metadata": {},
   "outputs": [],
   "source": [
    "from tensorflow.keras.models import Sequential\n",
    "from tensorflow.keras.layers import Dense\n",
    "from tensorflow.keras.layers import LSTM"
   ]
  },
  {
   "cell_type": "code",
   "execution_count": 22,
   "id": "452f5f5e-3cc6-49ae-830a-04d800e4e751",
   "metadata": {},
   "outputs": [],
   "source": [
    "model=Sequential()\n",
    "model.add(LSTM(50,return_sequences=True,input_shape=(100,1)))\n",
    "model.add(LSTM(50,return_sequences=True))\n",
    "model.add(LSTM(50))\n",
    "model.add(Dense(1))\n",
    "model.compile(loss='mean_squared_error',optimizer='adam')"
   ]
  },
  {
   "cell_type": "code",
   "execution_count": 23,
   "id": "35c9fda9-bb46-42fd-8865-c9a7e4c3ac46",
   "metadata": {},
   "outputs": [
    {
     "data": {
      "text/html": [
       "<pre style=\"white-space:pre;overflow-x:auto;line-height:normal;font-family:Menlo,'DejaVu Sans Mono',consolas,'Courier New',monospace\"><span style=\"font-weight: bold\">Model: \"sequential_1\"</span>\n",
       "</pre>\n"
      ],
      "text/plain": [
       "\u001b[1mModel: \"sequential_1\"\u001b[0m\n"
      ]
     },
     "metadata": {},
     "output_type": "display_data"
    },
    {
     "data": {
      "text/html": [
       "<pre style=\"white-space:pre;overflow-x:auto;line-height:normal;font-family:Menlo,'DejaVu Sans Mono',consolas,'Courier New',monospace\">┏━━━━━━━━━━━━━━━━━━━━━━━━━━━━━━━━━━━━━━┳━━━━━━━━━━━━━━━━━━━━━━━━━━━━━┳━━━━━━━━━━━━━━━━━┓\n",
       "┃<span style=\"font-weight: bold\"> Layer (type)                         </span>┃<span style=\"font-weight: bold\"> Output Shape                </span>┃<span style=\"font-weight: bold\">         Param # </span>┃\n",
       "┡━━━━━━━━━━━━━━━━━━━━━━━━━━━━━━━━━━━━━━╇━━━━━━━━━━━━━━━━━━━━━━━━━━━━━╇━━━━━━━━━━━━━━━━━┩\n",
       "│ lstm_3 (<span style=\"color: #0087ff; text-decoration-color: #0087ff\">LSTM</span>)                        │ (<span style=\"color: #00d7ff; text-decoration-color: #00d7ff\">None</span>, <span style=\"color: #00af00; text-decoration-color: #00af00\">100</span>, <span style=\"color: #00af00; text-decoration-color: #00af00\">50</span>)             │          <span style=\"color: #00af00; text-decoration-color: #00af00\">10,400</span> │\n",
       "├──────────────────────────────────────┼─────────────────────────────┼─────────────────┤\n",
       "│ lstm_4 (<span style=\"color: #0087ff; text-decoration-color: #0087ff\">LSTM</span>)                        │ (<span style=\"color: #00d7ff; text-decoration-color: #00d7ff\">None</span>, <span style=\"color: #00af00; text-decoration-color: #00af00\">100</span>, <span style=\"color: #00af00; text-decoration-color: #00af00\">50</span>)             │          <span style=\"color: #00af00; text-decoration-color: #00af00\">20,200</span> │\n",
       "├──────────────────────────────────────┼─────────────────────────────┼─────────────────┤\n",
       "│ lstm_5 (<span style=\"color: #0087ff; text-decoration-color: #0087ff\">LSTM</span>)                        │ (<span style=\"color: #00d7ff; text-decoration-color: #00d7ff\">None</span>, <span style=\"color: #00af00; text-decoration-color: #00af00\">50</span>)                  │          <span style=\"color: #00af00; text-decoration-color: #00af00\">20,200</span> │\n",
       "├──────────────────────────────────────┼─────────────────────────────┼─────────────────┤\n",
       "│ dense_1 (<span style=\"color: #0087ff; text-decoration-color: #0087ff\">Dense</span>)                      │ (<span style=\"color: #00d7ff; text-decoration-color: #00d7ff\">None</span>, <span style=\"color: #00af00; text-decoration-color: #00af00\">1</span>)                   │              <span style=\"color: #00af00; text-decoration-color: #00af00\">51</span> │\n",
       "└──────────────────────────────────────┴─────────────────────────────┴─────────────────┘\n",
       "</pre>\n"
      ],
      "text/plain": [
       "┏━━━━━━━━━━━━━━━━━━━━━━━━━━━━━━━━━━━━━━┳━━━━━━━━━━━━━━━━━━━━━━━━━━━━━┳━━━━━━━━━━━━━━━━━┓\n",
       "┃\u001b[1m \u001b[0m\u001b[1mLayer (type)                        \u001b[0m\u001b[1m \u001b[0m┃\u001b[1m \u001b[0m\u001b[1mOutput Shape               \u001b[0m\u001b[1m \u001b[0m┃\u001b[1m \u001b[0m\u001b[1m        Param #\u001b[0m\u001b[1m \u001b[0m┃\n",
       "┡━━━━━━━━━━━━━━━━━━━━━━━━━━━━━━━━━━━━━━╇━━━━━━━━━━━━━━━━━━━━━━━━━━━━━╇━━━━━━━━━━━━━━━━━┩\n",
       "│ lstm_3 (\u001b[38;5;33mLSTM\u001b[0m)                        │ (\u001b[38;5;45mNone\u001b[0m, \u001b[38;5;34m100\u001b[0m, \u001b[38;5;34m50\u001b[0m)             │          \u001b[38;5;34m10,400\u001b[0m │\n",
       "├──────────────────────────────────────┼─────────────────────────────┼─────────────────┤\n",
       "│ lstm_4 (\u001b[38;5;33mLSTM\u001b[0m)                        │ (\u001b[38;5;45mNone\u001b[0m, \u001b[38;5;34m100\u001b[0m, \u001b[38;5;34m50\u001b[0m)             │          \u001b[38;5;34m20,200\u001b[0m │\n",
       "├──────────────────────────────────────┼─────────────────────────────┼─────────────────┤\n",
       "│ lstm_5 (\u001b[38;5;33mLSTM\u001b[0m)                        │ (\u001b[38;5;45mNone\u001b[0m, \u001b[38;5;34m50\u001b[0m)                  │          \u001b[38;5;34m20,200\u001b[0m │\n",
       "├──────────────────────────────────────┼─────────────────────────────┼─────────────────┤\n",
       "│ dense_1 (\u001b[38;5;33mDense\u001b[0m)                      │ (\u001b[38;5;45mNone\u001b[0m, \u001b[38;5;34m1\u001b[0m)                   │              \u001b[38;5;34m51\u001b[0m │\n",
       "└──────────────────────────────────────┴─────────────────────────────┴─────────────────┘\n"
      ]
     },
     "metadata": {},
     "output_type": "display_data"
    },
    {
     "data": {
      "text/html": [
       "<pre style=\"white-space:pre;overflow-x:auto;line-height:normal;font-family:Menlo,'DejaVu Sans Mono',consolas,'Courier New',monospace\"><span style=\"font-weight: bold\"> Total params: </span><span style=\"color: #00af00; text-decoration-color: #00af00\">50,851</span> (198.64 KB)\n",
       "</pre>\n"
      ],
      "text/plain": [
       "\u001b[1m Total params: \u001b[0m\u001b[38;5;34m50,851\u001b[0m (198.64 KB)\n"
      ]
     },
     "metadata": {},
     "output_type": "display_data"
    },
    {
     "data": {
      "text/html": [
       "<pre style=\"white-space:pre;overflow-x:auto;line-height:normal;font-family:Menlo,'DejaVu Sans Mono',consolas,'Courier New',monospace\"><span style=\"font-weight: bold\"> Trainable params: </span><span style=\"color: #00af00; text-decoration-color: #00af00\">50,851</span> (198.64 KB)\n",
       "</pre>\n"
      ],
      "text/plain": [
       "\u001b[1m Trainable params: \u001b[0m\u001b[38;5;34m50,851\u001b[0m (198.64 KB)\n"
      ]
     },
     "metadata": {},
     "output_type": "display_data"
    },
    {
     "data": {
      "text/html": [
       "<pre style=\"white-space:pre;overflow-x:auto;line-height:normal;font-family:Menlo,'DejaVu Sans Mono',consolas,'Courier New',monospace\"><span style=\"font-weight: bold\"> Non-trainable params: </span><span style=\"color: #00af00; text-decoration-color: #00af00\">0</span> (0.00 B)\n",
       "</pre>\n"
      ],
      "text/plain": [
       "\u001b[1m Non-trainable params: \u001b[0m\u001b[38;5;34m0\u001b[0m (0.00 B)\n"
      ]
     },
     "metadata": {},
     "output_type": "display_data"
    }
   ],
   "source": [
    "model.summary()"
   ]
  },
  {
   "cell_type": "code",
   "execution_count": 24,
   "id": "8276e9c5-3e10-4b58-a456-a57278af9998",
   "metadata": {},
   "outputs": [
    {
     "name": "stdout",
     "output_type": "stream",
     "text": [
      "Epoch 1/200\n",
      "\u001b[1m12/12\u001b[0m \u001b[32m━━━━━━━━━━━━━━━━━━━━\u001b[0m\u001b[37m\u001b[0m \u001b[1m5s\u001b[0m 145ms/step - loss: 0.0647 - val_loss: 7.4224e-04\n",
      "Epoch 2/200\n",
      "\u001b[1m12/12\u001b[0m \u001b[32m━━━━━━━━━━━━━━━━━━━━\u001b[0m\u001b[37m\u001b[0m \u001b[1m1s\u001b[0m 114ms/step - loss: 0.0198 - val_loss: 0.0017\n",
      "Epoch 3/200\n",
      "\u001b[1m12/12\u001b[0m \u001b[32m━━━━━━━━━━━━━━━━━━━━\u001b[0m\u001b[37m\u001b[0m \u001b[1m1s\u001b[0m 112ms/step - loss: 0.0120 - val_loss: 5.5898e-04\n",
      "Epoch 4/200\n",
      "\u001b[1m12/12\u001b[0m \u001b[32m━━━━━━━━━━━━━━━━━━━━\u001b[0m\u001b[37m\u001b[0m \u001b[1m2s\u001b[0m 184ms/step - loss: 0.0109 - val_loss: 4.0569e-04\n",
      "Epoch 19/200\n",
      "\u001b[1m12/12\u001b[0m \u001b[32m━━━━━━━━━━━━━━━━━━━━\u001b[0m\u001b[37m\u001b[0m \u001b[1m3s\u001b[0m 209ms/step - loss: 0.0011 - val_loss: 1.9257e-04\n",
      "Epoch 60/200\n",
      "\u001b[1m12/12\u001b[0m \u001b[32m━━━━━━━━━━━━━━━━━━━━\u001b[0m\u001b[37m\u001b[0m \u001b[1m2s\u001b[0m 198ms/step - loss: 9.5739e-04 - val_loss: 1.8492e-04\n",
      "Epoch 61/200\n",
      "\u001b[1m12/12\u001b[0m \u001b[32m━━━━━━━━━━━━━━━━━━━━\u001b[0m\u001b[37m\u001b[0m \u001b[1m2s\u001b[0m 204ms/step - loss: 0.0018 - val_loss: 2.8483e-04\n",
      "Epoch 62/200\n",
      "\u001b[1m12/12\u001b[0m \u001b[32m━━━━━━━━━━━━━━━━━━━━\u001b[0m\u001b[37m\u001b[0m \u001b[1m3s\u001b[0m 216ms/step - loss: 0.0030 - val_loss: 2.3754e-04\n",
      "Epoch 63/200\n",
      "\u001b[1m12/12\u001b[0m \u001b[32m━━━━━━━━━━━━━━━━━━━━\u001b[0m\u001b[37m\u001b[0m \u001b[1m2s\u001b[0m 203ms/step - loss: 0.0045 - val_loss: 5.4974e-04\n",
      "Epoch 64/200\n",
      "\u001b[1m12/12\u001b[0m \u001b[32m━━━━━━━━━━━━━━━━━━━━\u001b[0m\u001b[37m\u001b[0m \u001b[1m2s\u001b[0m 198ms/step - loss: 0.0021 - val_loss: 3.6351e-04\n",
      "Epoch 65/200\n",
      "\u001b[1m12/12\u001b[0m \u001b[32m━━━━━━━━━━━━━━━━━━━━\u001b[0m\u001b[37m\u001b[0m \u001b[1m2s\u001b[0m 202ms/step - loss: 0.0020 - val_loss: 4.3308e-04\n",
      "Epoch 66/200\n",
      "\u001b[1m12/12\u001b[0m \u001b[32m━━━━━━━━━━━━━━━━━━━━\u001b[0m\u001b[37m\u001b[0m \u001b[1m2s\u001b[0m 199ms/step - loss: 0.0013 - val_loss: 2.0161e-04\n",
      "Epoch 67/200\n",
      "\u001b[1m12/12\u001b[0m \u001b[32m━━━━━━━━━━━━━━━━━━━━\u001b[0m\u001b[37m\u001b[0m \u001b[1m2s\u001b[0m 202ms/step - loss: 0.0011 - val_loss: 2.4462e-04\n",
      "Epoch 68/200\n",
      "\u001b[1m12/12\u001b[0m \u001b[32m━━━━━━━━━━━━━━━━━━━━\u001b[0m\u001b[37m\u001b[0m \u001b[1m3s\u001b[0m 208ms/step - loss: 0.0014 - val_loss: 4.1849e-04\n",
      "Epoch 69/200\n",
      "\u001b[1m12/12\u001b[0m \u001b[32m━━━━━━━━━━━━━━━━━━━━\u001b[0m\u001b[37m\u001b[0m \u001b[1m2s\u001b[0m 203ms/step - loss: 0.0014 - val_loss: 2.9849e-04\n",
      "Epoch 70/200\n",
      "\u001b[1m12/12\u001b[0m \u001b[32m━━━━━━━━━━━━━━━━━━━━\u001b[0m\u001b[37m\u001b[0m \u001b[1m2s\u001b[0m 197ms/step - loss: 0.0018 - val_loss: 1.9078e-04\n",
      "Epoch 71/200\n",
      "\u001b[1m12/12\u001b[0m \u001b[32m━━━━━━━━━━━━━━━━━━━━\u001b[0m\u001b[37m\u001b[0m \u001b[1m2s\u001b[0m 200ms/step - loss: 0.0016 - val_loss: 1.8052e-04\n",
      "Epoch 72/200\n",
      "\u001b[1m12/12\u001b[0m \u001b[32m━━━━━━━━━━━━━━━━━━━━\u001b[0m\u001b[37m\u001b[0m \u001b[1m3s\u001b[0m 213ms/step - loss: 0.0017 - val_loss: 3.0292e-04\n",
      "Epoch 73/200\n",
      "\u001b[1m12/12\u001b[0m \u001b[32m━━━━━━━━━━━━━━━━━━━━\u001b[0m\u001b[37m\u001b[0m \u001b[1m2s\u001b[0m 202ms/step - loss: 0.0017 - val_loss: 1.9531e-04\n",
      "Epoch 74/200\n",
      "\u001b[1m12/12\u001b[0m \u001b[32m━━━━━━━━━━━━━━━━━━━━\u001b[0m\u001b[37m\u001b[0m \u001b[1m2s\u001b[0m 205ms/step - loss: 0.0017 - val_loss: 1.8507e-04\n",
      "Epoch 75/200\n",
      "\u001b[1m12/12\u001b[0m \u001b[32m━━━━━━━━━━━━━━━━━━━━\u001b[0m\u001b[37m\u001b[0m \u001b[1m2s\u001b[0m 196ms/step - loss: 8.4688e-04 - val_loss: 1.8883e-04\n",
      "Epoch 76/200\n",
      "\u001b[1m12/12\u001b[0m \u001b[32m━━━━━━━━━━━━━━━━━━━━\u001b[0m\u001b[37m\u001b[0m \u001b[1m2s\u001b[0m 205ms/step - loss: 0.0011 - val_loss: 1.7340e-04\n",
      "Epoch 77/200\n",
      "\u001b[1m12/12\u001b[0m \u001b[32m━━━━━━━━━━━━━━━━━━━━\u001b[0m\u001b[37m\u001b[0m \u001b[1m2s\u001b[0m 202ms/step - loss: 0.0017 - val_loss: 1.8147e-04\n",
      "Epoch 78/200\n",
      "\u001b[1m12/12\u001b[0m \u001b[32m━━━━━━━━━━━━━━━━━━━━\u001b[0m\u001b[37m\u001b[0m \u001b[1m2s\u001b[0m 203ms/step - loss: 0.0013 - val_loss: 1.7309e-04\n",
      "Epoch 79/200\n",
      "\u001b[1m12/12\u001b[0m \u001b[32m━━━━━━━━━━━━━━━━━━━━\u001b[0m\u001b[37m\u001b[0m \u001b[1m3s\u001b[0m 214ms/step - loss: 0.0012 - val_loss: 2.2873e-04\n",
      "Epoch 80/200\n",
      "\u001b[1m12/12\u001b[0m \u001b[32m━━━━━━━━━━━━━━━━━━━━\u001b[0m\u001b[37m\u001b[0m \u001b[1m2s\u001b[0m 207ms/step - loss: 0.0011 - val_loss: 2.0444e-04\n",
      "Epoch 81/200\n",
      "\u001b[1m12/12\u001b[0m \u001b[32m━━━━━━━━━━━━━━━━━━━━\u001b[0m\u001b[37m\u001b[0m \u001b[1m2s\u001b[0m 198ms/step - loss: 0.0011 - val_loss: 1.6774e-04\n",
      "Epoch 82/200\n",
      "\u001b[1m12/12\u001b[0m \u001b[32m━━━━━━━━━━━━━━━━━━━━\u001b[0m\u001b[37m\u001b[0m \u001b[1m2s\u001b[0m 206ms/step - loss: 9.6874e-04 - val_loss: 3.4086e-04\n",
      "Epoch 83/200\n",
      "\u001b[1m12/12\u001b[0m \u001b[32m━━━━━━━━━━━━━━━━━━━━\u001b[0m\u001b[37m\u001b[0m \u001b[1m3s\u001b[0m 237ms/step - loss: 0.0014 - val_loss: 1.8920e-04\n",
      "Epoch 84/200\n",
      "\u001b[1m12/12\u001b[0m \u001b[32m━━━━━━━━━━━━━━━━━━━━\u001b[0m\u001b[37m\u001b[0m \u001b[1m3s\u001b[0m 265ms/step - loss: 0.0011 - val_loss: 1.7274e-04\n",
      "Epoch 85/200\n",
      "\u001b[1m12/12\u001b[0m \u001b[32m━━━━━━━━━━━━━━━━━━━━\u001b[0m\u001b[37m\u001b[0m \u001b[1m3s\u001b[0m 258ms/step - loss: 0.0012 - val_loss: 1.7909e-04\n",
      "Epoch 86/200\n",
      "\u001b[1m12/12\u001b[0m \u001b[32m━━━━━━━━━━━━━━━━━━━━\u001b[0m\u001b[37m\u001b[0m \u001b[1m3s\u001b[0m 223ms/step - loss: 0.0010 - val_loss: 1.8424e-04\n",
      "Epoch 87/200\n",
      "\u001b[1m12/12\u001b[0m \u001b[32m━━━━━━━━━━━━━━━━━━━━\u001b[0m\u001b[37m\u001b[0m \u001b[1m3s\u001b[0m 220ms/step - loss: 7.6316e-04 - val_loss: 1.6961e-04\n",
      "Epoch 88/200\n",
      "\u001b[1m12/12\u001b[0m \u001b[32m━━━━━━━━━━━━━━━━━━━━\u001b[0m\u001b[37m\u001b[0m \u001b[1m3s\u001b[0m 214ms/step - loss: 6.8340e-04 - val_loss: 1.7953e-04\n",
      "Epoch 89/200\n",
      "\u001b[1m12/12\u001b[0m \u001b[32m━━━━━━━━━━━━━━━━━━━━\u001b[0m\u001b[37m\u001b[0m \u001b[1m3s\u001b[0m 215ms/step - loss: 0.0020 - val_loss: 4.2884e-04\n",
      "Epoch 90/200\n",
      "\u001b[1m12/12\u001b[0m \u001b[32m━━━━━━━━━━━━━━━━━━━━\u001b[0m\u001b[37m\u001b[0m \u001b[1m3s\u001b[0m 224ms/step - loss: 0.0022 - val_loss: 1.6775e-04\n",
      "Epoch 91/200\n",
      "\u001b[1m12/12\u001b[0m \u001b[32m━━━━━━━━━━━━━━━━━━━━\u001b[0m\u001b[37m\u001b[0m \u001b[1m3s\u001b[0m 211ms/step - loss: 0.0022 - val_loss: 1.7495e-04\n",
      "Epoch 92/200\n",
      "\u001b[1m12/12\u001b[0m \u001b[32m━━━━━━━━━━━━━━━━━━━━\u001b[0m\u001b[37m\u001b[0m \u001b[1m3s\u001b[0m 220ms/step - loss: 0.0012 - val_loss: 2.2694e-04\n",
      "Epoch 93/200\n",
      "\u001b[1m12/12\u001b[0m \u001b[32m━━━━━━━━━━━━━━━━━━━━\u001b[0m\u001b[37m\u001b[0m \u001b[1m2s\u001b[0m 203ms/step - loss: 8.9024e-04 - val_loss: 2.0877e-04\n",
      "Epoch 94/200\n",
      "\u001b[1m12/12\u001b[0m \u001b[32m━━━━━━━━━━━━━━━━━━━━\u001b[0m\u001b[37m\u001b[0m \u001b[1m2s\u001b[0m 202ms/step - loss: 0.0012 - val_loss: 1.7968e-04\n",
      "Epoch 95/200\n",
      "\u001b[1m12/12\u001b[0m \u001b[32m━━━━━━━━━━━━━━━━━━━━\u001b[0m\u001b[37m\u001b[0m \u001b[1m2s\u001b[0m 194ms/step - loss: 8.3985e-04 - val_loss: 2.1678e-04\n",
      "Epoch 96/200\n",
      "\u001b[1m12/12\u001b[0m \u001b[32m━━━━━━━━━━━━━━━━━━━━\u001b[0m\u001b[37m\u001b[0m \u001b[1m2s\u001b[0m 193ms/step - loss: 0.0015 - val_loss: 2.3837e-04\n",
      "Epoch 97/200\n",
      "\u001b[1m12/12\u001b[0m \u001b[32m━━━━━━━━━━━━━━━━━━━━\u001b[0m\u001b[37m\u001b[0m \u001b[1m3s\u001b[0m 214ms/step - loss: 0.0012 - val_loss: 1.6538e-04\n",
      "Epoch 98/200\n",
      "\u001b[1m12/12\u001b[0m \u001b[32m━━━━━━━━━━━━━━━━━━━━\u001b[0m\u001b[37m\u001b[0m \u001b[1m3s\u001b[0m 218ms/step - loss: 0.0010 - val_loss: 1.8928e-04\n",
      "Epoch 99/200\n",
      "\u001b[1m12/12\u001b[0m \u001b[32m━━━━━━━━━━━━━━━━━━━━\u001b[0m\u001b[37m\u001b[0m \u001b[1m3s\u001b[0m 212ms/step - loss: 8.1321e-04 - val_loss: 1.6702e-04\n",
      "Epoch 100/200\n",
      "\u001b[1m12/12\u001b[0m \u001b[32m━━━━━━━━━━━━━━━━━━━━\u001b[0m\u001b[37m\u001b[0m \u001b[1m2s\u001b[0m 205ms/step - loss: 5.9369e-04 - val_loss: 1.9548e-04\n",
      "Epoch 101/200\n",
      "\u001b[1m12/12\u001b[0m \u001b[32m━━━━━━━━━━━━━━━━━━━━\u001b[0m\u001b[37m\u001b[0m \u001b[1m2s\u001b[0m 201ms/step - loss: 6.7023e-04 - val_loss: 1.6958e-04\n",
      "Epoch 102/200\n",
      "\u001b[1m12/12\u001b[0m \u001b[32m━━━━━━━━━━━━━━━━━━━━\u001b[0m\u001b[37m\u001b[0m \u001b[1m2s\u001b[0m 202ms/step - loss: 0.0012 - val_loss: 3.5761e-04\n",
      "Epoch 103/200\n",
      "\u001b[1m12/12\u001b[0m \u001b[32m━━━━━━━━━━━━━━━━━━━━\u001b[0m\u001b[37m\u001b[0m \u001b[1m3s\u001b[0m 219ms/step - loss: 0.0037 - val_loss: 3.3721e-04\n",
      "Epoch 104/200\n",
      "\u001b[1m12/12\u001b[0m \u001b[32m━━━━━━━━━━━━━━━━━━━━\u001b[0m\u001b[37m\u001b[0m \u001b[1m3s\u001b[0m 209ms/step - loss: 0.0025 - val_loss: 2.5522e-04\n",
      "Epoch 105/200\n",
      "\u001b[1m12/12\u001b[0m \u001b[32m━━━━━━━━━━━━━━━━━━━━\u001b[0m\u001b[37m\u001b[0m \u001b[1m2s\u001b[0m 205ms/step - loss: 0.0022 - val_loss: 1.7457e-04\n",
      "Epoch 106/200\n",
      "\u001b[1m12/12\u001b[0m \u001b[32m━━━━━━━━━━━━━━━━━━━━\u001b[0m\u001b[37m\u001b[0m \u001b[1m2s\u001b[0m 199ms/step - loss: 0.0017 - val_loss: 1.5878e-04\n",
      "Epoch 107/200\n",
      "\u001b[1m12/12\u001b[0m \u001b[32m━━━━━━━━━━━━━━━━━━━━\u001b[0m\u001b[37m\u001b[0m \u001b[1m2s\u001b[0m 203ms/step - loss: 0.0011 - val_loss: 2.3642e-04\n",
      "Epoch 108/200\n",
      "\u001b[1m12/12\u001b[0m \u001b[32m━━━━━━━━━━━━━━━━━━━━\u001b[0m\u001b[37m\u001b[0m \u001b[1m2s\u001b[0m 206ms/step - loss: 0.0012 - val_loss: 4.1862e-04\n",
      "Epoch 109/200\n",
      "\u001b[1m12/12\u001b[0m \u001b[32m━━━━━━━━━━━━━━━━━━━━\u001b[0m\u001b[37m\u001b[0m \u001b[1m2s\u001b[0m 202ms/step - loss: 0.0017 - val_loss: 2.3790e-04\n",
      "Epoch 110/200\n",
      "\u001b[1m12/12\u001b[0m \u001b[32m━━━━━━━━━━━━━━━━━━━━\u001b[0m\u001b[37m\u001b[0m \u001b[1m2s\u001b[0m 198ms/step - loss: 0.0013 - val_loss: 1.6463e-04\n",
      "Epoch 111/200\n",
      "\u001b[1m12/12\u001b[0m \u001b[32m━━━━━━━━━━━━━━━━━━━━\u001b[0m\u001b[37m\u001b[0m \u001b[1m3s\u001b[0m 212ms/step - loss: 8.5923e-04 - val_loss: 1.7279e-04\n",
      "Epoch 112/200\n",
      "\u001b[1m12/12\u001b[0m \u001b[32m━━━━━━━━━━━━━━━━━━━━\u001b[0m\u001b[37m\u001b[0m \u001b[1m3s\u001b[0m 217ms/step - loss: 7.0892e-04 - val_loss: 1.5952e-04\n",
      "Epoch 113/200\n",
      "\u001b[1m12/12\u001b[0m \u001b[32m━━━━━━━━━━━━━━━━━━━━\u001b[0m\u001b[37m\u001b[0m \u001b[1m3s\u001b[0m 212ms/step - loss: 7.4007e-04 - val_loss: 2.1400e-04\n",
      "Epoch 114/200\n",
      "\u001b[1m12/12\u001b[0m \u001b[32m━━━━━━━━━━━━━━━━━━━━\u001b[0m\u001b[37m\u001b[0m \u001b[1m2s\u001b[0m 203ms/step - loss: 8.7916e-04 - val_loss: 1.8893e-04\n",
      "Epoch 115/200\n",
      "\u001b[1m12/12\u001b[0m \u001b[32m━━━━━━━━━━━━━━━━━━━━\u001b[0m\u001b[37m\u001b[0m \u001b[1m2s\u001b[0m 207ms/step - loss: 0.0015 - val_loss: 1.9670e-04\n",
      "Epoch 116/200\n",
      "\u001b[1m12/12\u001b[0m \u001b[32m━━━━━━━━━━━━━━━━━━━━\u001b[0m\u001b[37m\u001b[0m \u001b[1m2s\u001b[0m 200ms/step - loss: 0.0018 - val_loss: 1.6413e-04\n",
      "Epoch 117/200\n",
      "\u001b[1m12/12\u001b[0m \u001b[32m━━━━━━━━━━━━━━━━━━━━\u001b[0m\u001b[37m\u001b[0m \u001b[1m3s\u001b[0m 204ms/step - loss: 0.0011 - val_loss: 1.5363e-04\n",
      "Epoch 118/200\n",
      "\u001b[1m12/12\u001b[0m \u001b[32m━━━━━━━━━━━━━━━━━━━━\u001b[0m\u001b[37m\u001b[0m \u001b[1m2s\u001b[0m 204ms/step - loss: 7.2157e-04 - val_loss: 2.5008e-04\n",
      "Epoch 119/200\n",
      "\u001b[1m12/12\u001b[0m \u001b[32m━━━━━━━━━━━━━━━━━━━━\u001b[0m\u001b[37m\u001b[0m \u001b[1m3s\u001b[0m 209ms/step - loss: 0.0020 - val_loss: 1.5757e-04\n",
      "Epoch 120/200\n",
      "\u001b[1m12/12\u001b[0m \u001b[32m━━━━━━━━━━━━━━━━━━━━\u001b[0m\u001b[37m\u001b[0m \u001b[1m2s\u001b[0m 202ms/step - loss: 0.0011 - val_loss: 1.8055e-04\n",
      "Epoch 121/200\n",
      "\u001b[1m12/12\u001b[0m \u001b[32m━━━━━━━━━━━━━━━━━━━━\u001b[0m\u001b[37m\u001b[0m \u001b[1m2s\u001b[0m 205ms/step - loss: 5.4202e-04 - val_loss: 1.8163e-04\n",
      "Epoch 122/200\n",
      "\u001b[1m12/12\u001b[0m \u001b[32m━━━━━━━━━━━━━━━━━━━━\u001b[0m\u001b[37m\u001b[0m \u001b[1m3s\u001b[0m 210ms/step - loss: 0.0010 - val_loss: 1.4832e-04\n",
      "Epoch 123/200\n",
      "\u001b[1m12/12\u001b[0m \u001b[32m━━━━━━━━━━━━━━━━━━━━\u001b[0m\u001b[37m\u001b[0m \u001b[1m3s\u001b[0m 213ms/step - loss: 0.0013 - val_loss: 1.4974e-04\n",
      "Epoch 124/200\n",
      "\u001b[1m12/12\u001b[0m \u001b[32m━━━━━━━━━━━━━━━━━━━━\u001b[0m\u001b[37m\u001b[0m \u001b[1m3s\u001b[0m 203ms/step - loss: 6.1132e-04 - val_loss: 2.1270e-04\n",
      "Epoch 125/200\n",
      "\u001b[1m12/12\u001b[0m \u001b[32m━━━━━━━━━━━━━━━━━━━━\u001b[0m\u001b[37m\u001b[0m \u001b[1m2s\u001b[0m 203ms/step - loss: 9.0967e-04 - val_loss: 1.4738e-04\n",
      "Epoch 126/200\n",
      "\u001b[1m12/12\u001b[0m \u001b[32m━━━━━━━━━━━━━━━━━━━━\u001b[0m\u001b[37m\u001b[0m \u001b[1m2s\u001b[0m 199ms/step - loss: 0.0014 - val_loss: 1.8607e-04\n",
      "Epoch 127/200\n",
      "\u001b[1m12/12\u001b[0m \u001b[32m━━━━━━━━━━━━━━━━━━━━\u001b[0m\u001b[37m\u001b[0m \u001b[1m3s\u001b[0m 212ms/step - loss: 0.0017 - val_loss: 1.5530e-04\n",
      "Epoch 128/200\n",
      "\u001b[1m12/12\u001b[0m \u001b[32m━━━━━━━━━━━━━━━━━━━━\u001b[0m\u001b[37m\u001b[0m \u001b[1m3s\u001b[0m 218ms/step - loss: 8.3516e-04 - val_loss: 1.5146e-04\n",
      "Epoch 129/200\n",
      "\u001b[1m12/12\u001b[0m \u001b[32m━━━━━━━━━━━━━━━━━━━━\u001b[0m\u001b[37m\u001b[0m \u001b[1m3s\u001b[0m 210ms/step - loss: 0.0012 - val_loss: 1.8398e-04\n",
      "Epoch 130/200\n",
      "\u001b[1m12/12\u001b[0m \u001b[32m━━━━━━━━━━━━━━━━━━━━\u001b[0m\u001b[37m\u001b[0m \u001b[1m2s\u001b[0m 206ms/step - loss: 7.1858e-04 - val_loss: 1.5088e-04\n",
      "Epoch 131/200\n",
      "\u001b[1m12/12\u001b[0m \u001b[32m━━━━━━━━━━━━━━━━━━━━\u001b[0m\u001b[37m\u001b[0m \u001b[1m2s\u001b[0m 202ms/step - loss: 6.1159e-04 - val_loss: 1.4670e-04\n",
      "Epoch 132/200\n",
      "\u001b[1m12/12\u001b[0m \u001b[32m━━━━━━━━━━━━━━━━━━━━\u001b[0m\u001b[37m\u001b[0m \u001b[1m2s\u001b[0m 204ms/step - loss: 0.0010 - val_loss: 2.3066e-04\n",
      "Epoch 133/200\n",
      "\u001b[1m12/12\u001b[0m \u001b[32m━━━━━━━━━━━━━━━━━━━━\u001b[0m\u001b[37m\u001b[0m \u001b[1m3s\u001b[0m 218ms/step - loss: 0.0048 - val_loss: 3.1955e-04\n",
      "Epoch 134/200\n",
      "\u001b[1m12/12\u001b[0m \u001b[32m━━━━━━━━━━━━━━━━━━━━\u001b[0m\u001b[37m\u001b[0m \u001b[1m3s\u001b[0m 207ms/step - loss: 0.0079 - val_loss: 7.6946e-04\n",
      "Epoch 135/200\n",
      "\u001b[1m12/12\u001b[0m \u001b[32m━━━━━━━━━━━━━━━━━━━━\u001b[0m\u001b[37m\u001b[0m \u001b[1m3s\u001b[0m 210ms/step - loss: 0.0024 - val_loss: 1.5238e-04\n",
      "Epoch 136/200\n",
      "\u001b[1m12/12\u001b[0m \u001b[32m━━━━━━━━━━━━━━━━━━━━\u001b[0m\u001b[37m\u001b[0m \u001b[1m2s\u001b[0m 202ms/step - loss: 0.0026 - val_loss: 1.4173e-04\n",
      "Epoch 137/200\n",
      "\u001b[1m12/12\u001b[0m \u001b[32m━━━━━━━━━━━━━━━━━━━━\u001b[0m\u001b[37m\u001b[0m \u001b[1m2s\u001b[0m 200ms/step - loss: 0.0031 - val_loss: 1.5113e-04\n",
      "Epoch 138/200\n",
      "\u001b[1m12/12\u001b[0m \u001b[32m━━━━━━━━━━━━━━━━━━━━\u001b[0m\u001b[37m\u001b[0m \u001b[1m2s\u001b[0m 205ms/step - loss: 0.0013 - val_loss: 1.4145e-04\n",
      "Epoch 139/200\n",
      "\u001b[1m12/12\u001b[0m \u001b[32m━━━━━━━━━━━━━━━━━━━━\u001b[0m\u001b[37m\u001b[0m \u001b[1m3s\u001b[0m 216ms/step - loss: 0.0014 - val_loss: 2.4631e-04\n",
      "Epoch 140/200\n",
      "\u001b[1m12/12\u001b[0m \u001b[32m━━━━━━━━━━━━━━━━━━━━\u001b[0m\u001b[37m\u001b[0m \u001b[1m3s\u001b[0m 207ms/step - loss: 0.0020 - val_loss: 2.2218e-04\n",
      "Epoch 141/200\n",
      "\u001b[1m12/12\u001b[0m \u001b[32m━━━━━━━━━━━━━━━━━━━━\u001b[0m\u001b[37m\u001b[0m \u001b[1m2s\u001b[0m 203ms/step - loss: 0.0018 - val_loss: 2.6174e-04\n",
      "Epoch 142/200\n",
      "\u001b[1m12/12\u001b[0m \u001b[32m━━━━━━━━━━━━━━━━━━━━\u001b[0m\u001b[37m\u001b[0m \u001b[1m2s\u001b[0m 206ms/step - loss: 0.0020 - val_loss: 1.4899e-04\n",
      "Epoch 143/200\n",
      "\u001b[1m12/12\u001b[0m \u001b[32m━━━━━━━━━━━━━━━━━━━━\u001b[0m\u001b[37m\u001b[0m \u001b[1m3s\u001b[0m 209ms/step - loss: 0.0012 - val_loss: 1.3781e-04\n",
      "Epoch 144/200\n",
      "\u001b[1m12/12\u001b[0m \u001b[32m━━━━━━━━━━━━━━━━━━━━\u001b[0m\u001b[37m\u001b[0m \u001b[1m2s\u001b[0m 201ms/step - loss: 9.4830e-04 - val_loss: 1.6704e-04\n",
      "Epoch 145/200\n",
      "\u001b[1m12/12\u001b[0m \u001b[32m━━━━━━━━━━━━━━━━━━━━\u001b[0m\u001b[37m\u001b[0m \u001b[1m3s\u001b[0m 215ms/step - loss: 0.0014 - val_loss: 1.4816e-04\n",
      "Epoch 146/200\n",
      "\u001b[1m12/12\u001b[0m \u001b[32m━━━━━━━━━━━━━━━━━━━━\u001b[0m\u001b[37m\u001b[0m \u001b[1m2s\u001b[0m 205ms/step - loss: 9.7977e-04 - val_loss: 1.5762e-04\n",
      "Epoch 147/200\n",
      "\u001b[1m12/12\u001b[0m \u001b[32m━━━━━━━━━━━━━━━━━━━━\u001b[0m\u001b[37m\u001b[0m \u001b[1m2s\u001b[0m 205ms/step - loss: 8.8895e-04 - val_loss: 1.4112e-04\n",
      "Epoch 148/200\n",
      "\u001b[1m12/12\u001b[0m \u001b[32m━━━━━━━━━━━━━━━━━━━━\u001b[0m\u001b[37m\u001b[0m \u001b[1m3s\u001b[0m 207ms/step - loss: 8.8064e-04 - val_loss: 1.3592e-04\n",
      "Epoch 149/200\n",
      "\u001b[1m12/12\u001b[0m \u001b[32m━━━━━━━━━━━━━━━━━━━━\u001b[0m\u001b[37m\u001b[0m \u001b[1m3s\u001b[0m 207ms/step - loss: 0.0011 - val_loss: 2.1177e-04\n",
      "Epoch 150/200\n",
      "\u001b[1m12/12\u001b[0m \u001b[32m━━━━━━━━━━━━━━━━━━━━\u001b[0m\u001b[37m\u001b[0m \u001b[1m2s\u001b[0m 204ms/step - loss: 0.0012 - val_loss: 1.5156e-04\n",
      "Epoch 151/200\n",
      "\u001b[1m12/12\u001b[0m \u001b[32m━━━━━━━━━━━━━━━━━━━━\u001b[0m\u001b[37m\u001b[0m \u001b[1m3s\u001b[0m 213ms/step - loss: 0.0014 - val_loss: 1.3173e-04\n",
      "Epoch 152/200\n",
      "\u001b[1m12/12\u001b[0m \u001b[32m━━━━━━━━━━━━━━━━━━━━\u001b[0m\u001b[37m\u001b[0m \u001b[1m3s\u001b[0m 211ms/step - loss: 0.0020 - val_loss: 1.8052e-04\n",
      "Epoch 153/200\n",
      "\u001b[1m12/12\u001b[0m \u001b[32m━━━━━━━━━━━━━━━━━━━━\u001b[0m\u001b[37m\u001b[0m \u001b[1m3s\u001b[0m 211ms/step - loss: 8.0460e-04 - val_loss: 1.3091e-04\n",
      "Epoch 154/200\n",
      "\u001b[1m12/12\u001b[0m \u001b[32m━━━━━━━━━━━━━━━━━━━━\u001b[0m\u001b[37m\u001b[0m \u001b[1m3s\u001b[0m 211ms/step - loss: 0.0013 - val_loss: 1.3232e-04\n",
      "Epoch 155/200\n",
      "\u001b[1m12/12\u001b[0m \u001b[32m━━━━━━━━━━━━━━━━━━━━\u001b[0m\u001b[37m\u001b[0m \u001b[1m3s\u001b[0m 207ms/step - loss: 8.4900e-04 - val_loss: 1.4577e-04\n",
      "Epoch 156/200\n",
      "\u001b[1m12/12\u001b[0m \u001b[32m━━━━━━━━━━━━━━━━━━━━\u001b[0m\u001b[37m\u001b[0m \u001b[1m3s\u001b[0m 209ms/step - loss: 9.8233e-04 - val_loss: 1.8426e-04\n",
      "Epoch 157/200\n",
      "\u001b[1m12/12\u001b[0m \u001b[32m━━━━━━━━━━━━━━━━━━━━\u001b[0m\u001b[37m\u001b[0m \u001b[1m2s\u001b[0m 202ms/step - loss: 0.0012 - val_loss: 2.8769e-04\n",
      "Epoch 158/200\n",
      "\u001b[1m12/12\u001b[0m \u001b[32m━━━━━━━━━━━━━━━━━━━━\u001b[0m\u001b[37m\u001b[0m \u001b[1m3s\u001b[0m 209ms/step - loss: 0.0016 - val_loss: 2.3787e-04\n",
      "Epoch 159/200\n",
      "\u001b[1m12/12\u001b[0m \u001b[32m━━━━━━━━━━━━━━━━━━━━\u001b[0m\u001b[37m\u001b[0m \u001b[1m3s\u001b[0m 209ms/step - loss: 7.5696e-04 - val_loss: 1.3165e-04\n",
      "Epoch 160/200\n",
      "\u001b[1m12/12\u001b[0m \u001b[32m━━━━━━━━━━━━━━━━━━━━\u001b[0m\u001b[37m\u001b[0m \u001b[1m2s\u001b[0m 205ms/step - loss: 8.9501e-04 - val_loss: 1.6983e-04\n",
      "Epoch 161/200\n",
      "\u001b[1m12/12\u001b[0m \u001b[32m━━━━━━━━━━━━━━━━━━━━\u001b[0m\u001b[37m\u001b[0m \u001b[1m3s\u001b[0m 207ms/step - loss: 0.0010 - val_loss: 1.3286e-04\n",
      "Epoch 162/200\n",
      "\u001b[1m12/12\u001b[0m \u001b[32m━━━━━━━━━━━━━━━━━━━━\u001b[0m\u001b[37m\u001b[0m \u001b[1m3s\u001b[0m 211ms/step - loss: 5.2110e-04 - val_loss: 1.4671e-04\n",
      "Epoch 163/200\n",
      "\u001b[1m12/12\u001b[0m \u001b[32m━━━━━━━━━━━━━━━━━━━━\u001b[0m\u001b[37m\u001b[0m \u001b[1m3s\u001b[0m 216ms/step - loss: 7.1362e-04 - val_loss: 1.2954e-04\n",
      "Epoch 164/200\n",
      "\u001b[1m12/12\u001b[0m \u001b[32m━━━━━━━━━━━━━━━━━━━━\u001b[0m\u001b[37m\u001b[0m \u001b[1m3s\u001b[0m 213ms/step - loss: 8.5280e-04 - val_loss: 1.6747e-04\n",
      "Epoch 165/200\n",
      "\u001b[1m12/12\u001b[0m \u001b[32m━━━━━━━━━━━━━━━━━━━━\u001b[0m\u001b[37m\u001b[0m \u001b[1m3s\u001b[0m 209ms/step - loss: 7.9215e-04 - val_loss: 1.1268e-04\n",
      "Epoch 197/200\n",
      "\u001b[1m12/12\u001b[0m \u001b[32m━━━━━━━━━━━━━━━━━━━━\u001b[0m\u001b[37m\u001b[0m \u001b[1m3s\u001b[0m 214ms/step - loss: 5.9533e-04 - val_loss: 1.0984e-04\n",
      "Epoch 198/200\n",
      "\u001b[1m12/12\u001b[0m \u001b[32m━━━━━━━━━━━━━━━━━━━━\u001b[0m\u001b[37m\u001b[0m \u001b[1m3s\u001b[0m 216ms/step - loss: 4.0236e-04 - val_loss: 1.2149e-04\n",
      "Epoch 199/200\n",
      "\u001b[1m12/12\u001b[0m \u001b[32m━━━━━━━━━━━━━━━━━━━━\u001b[0m\u001b[37m\u001b[0m \u001b[1m3s\u001b[0m 209ms/step - loss: 6.3361e-04 - val_loss: 1.0836e-04\n",
      "Epoch 200/200\n",
      "\u001b[1m12/12\u001b[0m \u001b[32m━━━━━━━━━━━━━━━━━━━━\u001b[0m\u001b[37m\u001b[0m \u001b[1m3s\u001b[0m 218ms/step - loss: 8.3991e-04 - val_loss: 1.1972e-04\n"
     ]
    },
    {
     "data": {
      "text/plain": [
       "<keras.src.callbacks.history.History at 0x1631d4536b0>"
      ]
     },
     "execution_count": 24,
     "metadata": {},
     "output_type": "execute_result"
    }
   ],
   "source": [
    "model.fit(x_train,y_train,validation_data=(x_test,y_test),epochs=200,batch_size=64,verbose=1)"
   ]
  },
  {
   "cell_type": "code",
   "execution_count": 25,
   "id": "572742e9-87c4-4218-88ac-0398d1ce83e9",
   "metadata": {},
   "outputs": [
    {
     "name": "stdout",
     "output_type": "stream",
     "text": [
      "\u001b[1m23/23\u001b[0m \u001b[32m━━━━━━━━━━━━━━━━━━━━\u001b[0m\u001b[37m\u001b[0m \u001b[1m1s\u001b[0m 33ms/step\n",
      "\u001b[1m11/11\u001b[0m \u001b[32m━━━━━━━━━━━━━━━━━━━━\u001b[0m\u001b[37m\u001b[0m \u001b[1m0s\u001b[0m 21ms/step\n"
     ]
    }
   ],
   "source": [
    "train_predict=model.predict(x_train)\n",
    "test_predict=model.predict(x_test)"
   ]
  },
  {
   "cell_type": "code",
   "execution_count": 28,
   "id": "082bc232-142e-418a-af80-76786e456e8d",
   "metadata": {},
   "outputs": [],
   "source": [
    "train_predict=scaler.inverse_transform(train_predict)\n",
    "test_predict=scaler.inverse_transform(test_predict)"
   ]
  },
  {
   "cell_type": "code",
   "execution_count": 29,
   "id": "cb6e3573-2a4c-4fb7-b7c4-78516f1b8426",
   "metadata": {},
   "outputs": [
    {
     "data": {
      "text/plain": [
       "214.55462175702294"
      ]
     },
     "execution_count": 29,
     "metadata": {},
     "output_type": "execute_result"
    }
   ],
   "source": [
    "import math\n",
    "from sklearn.metrics import mean_squared_error\n",
    "math.sqrt(mean_squared_error(y_train,train_predict))"
   ]
  },
  {
   "cell_type": "code",
   "execution_count": 30,
   "id": "a813a515-717e-44b0-bc21-cf56494a20f8",
   "metadata": {},
   "outputs": [
    {
     "data": {
      "text/plain": [
       "170.57583329742224"
      ]
     },
     "execution_count": 30,
     "metadata": {},
     "output_type": "execute_result"
    }
   ],
   "source": [
    "math.sqrt(mean_squared_error(y_test,test_predict))"
   ]
  },
  {
   "cell_type": "code",
   "execution_count": 31,
   "id": "17ebd579-5e22-44f2-a95d-fee8b37a2fd7",
   "metadata": {},
   "outputs": [
    {
     "data": {
      "image/png": "[encoded data removed]",
      "text/plain": [
       "<Figure size 640x480 with 1 Axes>"
      ]
     },
     "metadata": {},
     "output_type": "display_data"
    }
   ],
   "source": [
    "look_back=100\n",
    "trainPredictPlot=numpy.empty_like(df1)\n",
    "trainPredictPlot[:, :]=np.nan\n",
    "trainPredictPlot[look_back:len(train_predict)+look_back, :] =train_predict\n",
    "testPredictPlot=numpy.empty_like(df1)\n",
    "testPredictPlot[:, :]=numpy.nan\n",
    "testPredictPlot[len(train_predict)+(look_back*2)+1:len(df1)-1,:]=test_predict\n",
    "plt.plot(scaler.inverse_transform(df1))\n",
    "plt.plot(trainPredictPlot)\n",
    "plt.plot(testPredictPlot)\n",
    "plt.show()"
   ]
  },
  {
   "cell_type": "code",
   "execution_count": 32,
   "id": "1aceecac-3d2e-4dbb-8ce3-e2cbd30f154b",
   "metadata": {},
   "outputs": [
    {
     "data": {
      "text/plain": [
       "(1, 100)"
      ]
     },
     "execution_count": 32,
     "metadata": {},
     "output_type": "execute_result"
    }
   ],
   "source": [
    "x_input=test_data[340:].reshape(1,-1)\n",
    "x_input.shape"
   ]
  },
  {
   "cell_type": "code",
   "execution_count": 37,
   "id": "7cb6b473-8050-4624-bcf7-8bfd63acab21",
   "metadata": {},
   "outputs": [],
   "source": [
    "temp_input=list(x_input)\n",
    "temp_input=temp_input[0].tolist()"
   ]
  },
  {
   "cell_type": "code",
   "execution_count": 38,
   "id": "d6e8a7a4-728b-4c60-bca5-05941ecf2cb0",
   "metadata": {},
   "outputs": [
    {
     "name": "stdout",
     "output_type": "stream",
     "text": [
      "0 day input [0.18780213 0.19048215 0.1892799  0.19927364 0.19526612 0.20187852\n",
      " 0.2033062  0.20756418 0.20751409 0.21192235 0.20989355 0.2115717\n",
      " 0.2082154  0.20776456 0.20929242 0.20671259 0.20816531 0.21139637\n",
      " 0.20686287 0.21685661 0.21410144 0.2189856  0.22259236 0.21625548\n",
      " 0.22008766 0.22822793 0.22860363 0.2272511  0.22304321 0.22567314\n",
      " 0.22038823 0.22001252 0.21730745 0.21592987 0.21618034 0.21725736\n",
      " 0.21462743 0.19737007 0.19388854 0.18802755 0.18619912 0.19716969\n",
      " 0.19611772 0.19874765 0.19724483 0.19807138 0.19233563 0.18995617\n",
      " 0.20485911 0.21219787 0.21803381 0.22126487 0.21956168 0.21873513\n",
      " 0.21435191 0.21262367 0.20338134 0.19426425 0.2004258  0.19789606\n",
      " 0.20247965 0.20653726 0.20681277 0.20408265 0.20541014 0.20115216\n",
      " 0.19586725 0.19363807 0.19291171 0.18902943 0.18715091 0.18905448\n",
      " 0.1941891  0.18955542 0.18614903 0.18983093 0.18680025 0.1851221\n",
      " 0.18239198 0.17097057 0.15849718 0.15599249 0.15569192 0.16002505\n",
      " 0.16508453 0.16628679 0.16102693 0.16571071 0.16475892 0.16751409\n",
      " 0.17342517 0.17991234 0.16162805 0.16390733 0.16032561 0.15747026\n",
      " 0.16648716 0.16190357 0.15964612 0.15865514]\n",
      "0 day output [[0.1577052]]\n",
      "1 day input [0.19048215 0.1892799  0.19927364 0.19526612 0.20187852 0.2033062\n",
      " 0.20756418 0.20751409 0.21192235 0.20989355 0.2115717  0.2082154\n",
      " 0.20776456 0.20929242 0.20671259 0.20816531 0.21139637 0.20686287\n",
      " 0.21685661 0.21410144 0.2189856  0.22259236 0.21625548 0.22008766\n",
      " 0.22822793 0.22860363 0.2272511  0.22304321 0.22567314 0.22038823\n",
      " 0.22001252 0.21730745 0.21592987 0.21618034 0.21725736 0.21462743\n",
      " 0.19737007 0.19388854 0.18802755 0.18619912 0.19716969 0.19611772\n",
      " 0.19874765 0.19724483 0.19807138 0.19233563 0.18995617 0.20485911\n",
      " 0.21219787 0.21803381 0.22126487 0.21956168 0.21873513 0.21435191\n",
      " 0.21262367 0.20338134 0.19426425 0.2004258  0.19789606 0.20247965\n",
      " 0.20653726 0.20681277 0.20408265 0.20541014 0.20115216 0.19586725\n",
      " 0.19363807 0.19291171 0.18902943 0.18715091 0.18905448 0.1941891\n",
      " 0.18955542 0.18614903 0.18983093 0.18680025 0.1851221  0.18239198\n",
      " 0.17097057 0.15849718 0.15599249 0.15569192 0.16002505 0.16508453\n",
      " 0.16628679 0.16102693 0.16571071 0.16475892 0.16751409 0.17342517\n",
      " 0.17991234 0.16162805 0.16390733 0.16032561 0.15747026 0.16648716\n",
      " 0.16190357 0.15964612 0.15865514 0.1577052 ]\n",
      "1 day output [[0.15678239]]\n",
      "2 day input [0.1892799  0.19927364 0.19526612 0.20187852 0.2033062  0.20756418\n",
      " 0.20751409 0.21192235 0.20989355 0.2115717  0.2082154  0.20776456\n",
      " 0.20929242 0.20671259 0.20816531 0.21139637 0.20686287 0.21685661\n",
      " 0.21410144 0.2189856  0.22259236 0.21625548 0.22008766 0.22822793\n",
      " 0.22860363 0.2272511  0.22304321 0.22567314 0.22038823 0.22001252\n",
      " 0.21730745 0.21592987 0.21618034 0.21725736 0.21462743 0.19737007\n",
      " 0.19388854 0.18802755 0.18619912 0.19716969 0.19611772 0.19874765\n",
      " 0.19724483 0.19807138 0.19233563 0.18995617 0.20485911 0.21219787\n",
      " 0.21803381 0.22126487 0.21956168 0.21873513 0.21435191 0.21262367\n",
      " 0.20338134 0.19426425 0.2004258  0.19789606 0.20247965 0.20653726\n",
      " 0.20681277 0.20408265 0.20541014 0.20115216 0.19586725 0.19363807\n",
      " 0.19291171 0.18902943 0.18715091 0.18905448 0.1941891  0.18955542\n",
      " 0.18614903 0.18983093 0.18680025 0.1851221  0.18239198 0.17097057\n",
      " 0.15849718 0.15599249 0.15569192 0.16002505 0.16508453 0.16628679\n",
      " 0.16102693 0.16571071 0.16475892 0.16751409 0.17342517 0.17991234\n",
      " 0.16162805 0.16390733 0.16032561 0.15747026 0.16648716 0.16190357\n",
      " 0.15964612 0.15865514 0.1577052  0.15678239]\n",
      "2 day output [[0.15588826]]\n",
      "3 day input [0.19927364 0.19526612 0.20187852 0.2033062  0.20756418 0.20751409\n",
      " 0.21192235 0.20989355 0.2115717  0.2082154  0.20776456 0.20929242\n",
      " 0.20671259 0.20816531 0.21139637 0.20686287 0.21685661 0.21410144\n",
      " 0.2189856  0.22259236 0.21625548 0.22008766 0.22822793 0.22860363\n",
      " 0.2272511  0.22304321 0.22567314 0.22038823 0.22001252 0.21730745\n",
      " 0.21592987 0.21618034 0.21725736 0.21462743 0.19737007 0.19388854\n",
      " 0.18802755 0.18619912 0.19716969 0.19611772 0.19874765 0.19724483\n",
      " 0.19807138 0.19233563 0.18995617 0.20485911 0.21219787 0.21803381\n",
      " 0.22126487 0.21956168 0.21873513 0.21435191 0.21262367 0.20338134\n",
      " 0.19426425 0.2004258  0.19789606 0.20247965 0.20653726 0.20681277\n",
      " 0.20408265 0.20541014 0.20115216 0.19586725 0.19363807 0.19291171\n",
      " 0.18902943 0.18715091 0.18905448 0.1941891  0.18955542 0.18614903\n",
      " 0.18983093 0.18680025 0.1851221  0.18239198 0.17097057 0.15849718\n",
      " 0.15599249 0.15569192 0.16002505 0.16508453 0.16628679 0.16102693\n",
      " 0.16571071 0.16475892 0.16751409 0.17342517 0.17991234 0.16162805\n",
      " 0.16390733 0.16032561 0.15747026 0.16648716 0.16190357 0.15964612\n",
      " 0.15865514 0.1577052  0.15678239 0.15588826]\n",
      "3 day output [[0.1550235]]\n",
      "4 day input [0.19526612 0.20187852 0.2033062  0.20756418 0.20751409 0.21192235\n",
      " 0.20989355 0.2115717  0.2082154  0.20776456 0.20929242 0.20671259\n",
      " 0.20816531 0.21139637 0.20686287 0.21685661 0.21410144 0.2189856\n",
      " 0.22259236 0.21625548 0.22008766 0.22822793 0.22860363 0.2272511\n",
      " 0.22304321 0.22567314 0.22038823 0.22001252 0.21730745 0.21592987\n",
      " 0.21618034 0.21725736 0.21462743 0.19737007 0.19388854 0.18802755\n",
      " 0.18619912 0.19716969 0.19611772 0.19874765 0.19724483 0.19807138\n",
      " 0.19233563 0.18995617 0.20485911 0.21219787 0.21803381 0.22126487\n",
      " 0.21956168 0.21873513 0.21435191 0.21262367 0.20338134 0.19426425\n",
      " 0.2004258  0.19789606 0.20247965 0.20653726 0.20681277 0.20408265\n",
      " 0.20541014 0.20115216 0.19586725 0.19363807 0.19291171 0.18902943\n",
      " 0.18715091 0.18905448 0.1941891  0.18955542 0.18614903 0.18983093\n",
      " 0.18680025 0.1851221  0.18239198 0.17097057 0.15849718 0.15599249\n",
      " 0.15569192 0.16002505 0.16508453 0.16628679 0.16102693 0.16571071\n",
      " 0.16475892 0.16751409 0.17342517 0.17991234 0.16162805 0.16390733\n",
      " 0.16032561 0.15747026 0.16648716 0.16190357 0.15964612 0.15865514\n",
      " 0.1577052  0.15678239 0.15588826 0.1550235 ]\n",
      "4 day output [[0.15418431]]\n",
      "19 day input [0.21685661 0.21410144 0.2189856  0.22259236 0.21625548 0.22008766\n",
      " 0.22822793 0.22860363 0.2272511  0.22304321 0.22567314 0.22038823\n",
      " 0.22001252 0.21730745 0.21592987 0.21618034 0.21725736 0.21462743\n",
      " 0.19737007 0.19388854 0.18802755 0.18619912 0.19716969 0.19611772\n",
      " 0.19874765 0.19724483 0.19807138 0.19233563 0.18995617 0.20485911\n",
      " 0.21219787 0.21803381 0.22126487 0.21956168 0.21873513 0.21435191\n",
      " 0.21262367 0.20338134 0.19426425 0.2004258  0.19789606 0.20247965\n",
      " 0.20653726 0.20681277 0.20408265 0.20541014 0.20115216 0.19586725\n",
      " 0.19363807 0.19291171 0.18902943 0.18715091 0.18905448 0.1941891\n",
      " 0.18955542 0.18614903 0.18983093 0.18680025 0.1851221  0.18239198\n",
      " 0.17097057 0.15849718 0.15599249 0.15569192 0.16002505 0.16508453\n",
      " 0.16628679 0.16102693 0.16571071 0.16475892 0.16751409 0.17342517\n",
      " 0.17991234 0.16162805 0.16390733 0.16032561 0.15747026 0.16648716\n",
      " 0.16190357 0.15964612 0.15865514 0.1577052  0.15678239 0.15588826\n",
      " 0.1550235  0.15418431 0.15336302 0.15255071 0.15173894 0.15092102\n",
      " 0.15009266 0.14925218 0.14840004 0.14753851 0.14667103 0.14580181\n",
      " 0.14493528 0.1440758  0.14322719 0.14239269]\n",
      "19 day output [[0.14157487]]\n",
      "20 day input [0.21410144 0.2189856  0.22259236 0.21625548 0.22008766 0.22822793\n",
      " 0.22860363 0.2272511  0.22304321 0.22567314 0.22038823 0.22001252\n",
      " 0.21730745 0.21592987 0.21618034 0.21725736 0.21462743 0.19737007\n",
      " 0.19388854 0.18802755 0.18619912 0.19716969 0.19611772 0.19874765\n",
      " 0.19724483 0.19807138 0.19233563 0.18995617 0.20485911 0.21219787\n",
      " 0.21803381 0.22126487 0.21956168 0.21873513 0.21435191 0.21262367\n",
      " 0.20338134 0.19426425 0.2004258  0.19789606 0.20247965 0.20653726\n",
      " 0.20681277 0.20408265 0.20541014 0.20115216 0.19586725 0.19363807\n",
      " 0.19291171 0.18902943 0.18715091 0.18905448 0.1941891  0.18955542\n",
      " 0.18614903 0.18983093 0.18680025 0.1851221  0.18239198 0.17097057\n",
      " 0.15849718 0.15599249 0.15569192 0.16002505 0.16508453 0.16628679\n",
      " 0.16102693 0.16571071 0.16475892 0.16751409 0.17342517 0.17991234\n",
      " 0.16162805 0.16390733 0.16032561 0.15747026 0.16648716 0.16190357\n",
      " 0.15964612 0.15865514 0.1577052  0.15678239 0.15588826 0.1550235\n",
      " 0.15418431 0.15336302 0.15255071 0.15173894 0.15092102 0.15009266\n",
      " 0.14925218 0.14840004 0.14753851 0.14667103 0.14580181 0.14493528\n",
      " 0.1440758  0.14322719 0.14239269 0.14157487]\n",
      "29 day input [0.22567314 0.22038823 0.22001252 0.21730745 0.21592987 0.21618034\n",
      " 0.21725736 0.21462743 0.19737007 0.19388854 0.18802755 0.18619912\n",
      " 0.19716969 0.19611772 0.19874765 0.19724483 0.19807138 0.19233563\n",
      " 0.18995617 0.20485911 0.21219787 0.21803381 0.22126487 0.21956168\n",
      " 0.21873513 0.21435191 0.21262367 0.20338134 0.19426425 0.2004258\n",
      " 0.19789606 0.20247965 0.20653726 0.20681277 0.20408265 0.20541014\n",
      " 0.20115216 0.19586725 0.19363807 0.19291171 0.18902943 0.18715091\n",
      " 0.18905448 0.1941891  0.18955542 0.18614903 0.18983093 0.18680025\n",
      " 0.1851221  0.18239198 0.17097057 0.15849718 0.15599249 0.15569192\n",
      " 0.16002505 0.16508453 0.16628679 0.16102693 0.16571071 0.16475892\n",
      " 0.16751409 0.17342517 0.17991234 0.16162805 0.16390733 0.16032561\n",
      " 0.15747026 0.16648716 0.16190357 0.15964612 0.15865514 0.1577052\n",
      " 0.15678239 0.15588826 0.1550235  0.15418431 0.15336302 0.15255071\n",
      " 0.15173894 0.15092102 0.15009266 0.14925218 0.14840004 0.14753851\n",
      " 0.14667103 0.14580181 0.14493528 0.1440758  0.14322719 0.14239269\n",
      " 0.14157487 0.14077538 0.13999519 0.13923442 0.13849257 0.13776872\n",
      " 0.13706157 0.1363695  0.13569097 0.13502443]\n",
      "29 day output [[0.13436845]]\n",
      "[[0.15770520269870758], [0.1567823886871338], [0.15588825941085815], [0.1550235003232956], [0.15418431162834167], [0.15336301922798157], [0.15255071222782135], [0.1517389416694641], [0.1509210169315338], [0.15009266138076782], [0.14925217628479004], [0.14840003848075867], [0.14753851294517517], [0.14667102694511414], [0.14580181241035461], [0.14493528008460999], [0.14407579600811005], [0.14322718977928162], [0.14239269495010376], [0.14157487452030182], [0.1407753825187683], [0.13999518752098083], [0.13923442363739014], [0.13849256932735443], [0.1377687156200409], [0.13706156611442566], [0.1363694965839386], [0.13569097220897675], [0.13502442836761475], [0.13436844944953918]]\n"
     ]
    }
   ],
   "source": [
    "from numpy import array\n",
    "lst_output=[]\n",
    "n_steps=100\n",
    "i=0\n",
    "while(i<30):\n",
    "    if(len(temp_input)>100):\n",
    "        x_input=np.array(temp_input[1:])\n",
    "        print(\"{} day input {}\".format(i,x_input))\n",
    "        x_input=x_input.reshape(1,-1)\n",
    "        x_input=x_input.reshape((1,n_steps,1))\n",
    "        yhat=model.predict(x_input,verbose=0)\n",
    "        print(\"{} day output {}\".format(i,yhat))\n",
    "        temp_input.extend(yhat[0].tolist())\n",
    "        temp_input=temp_input[1:]\n",
    "        lst_output.extend(yhat.tolist())\n",
    "        i=i+1\n",
    "    else:\n",
    "        x_input=x_input.reshape((1,n_steps,1))\n",
    "        yhat=model.predict(x_input,verbose=0)\n",
    "        print(yhat[0])\n",
    "        temp_input.extend(yhat[0].tolist())\n",
    "        print(len(temp_input))\n",
    "        lst_output.extend(yhat.tolist())\n",
    "        i=i+1\n",
    "\n",
    "print(lst_output)\n",
    "        "
   ]
  },
  {
   "cell_type": "code",
   "execution_count": 42,
   "id": "68b0badb-cd2b-416d-8acd-d973514d7f0a",
   "metadata": {},
   "outputs": [],
   "source": [
    "import numpy as np\n",
    "day_new=np.arange(1,101)\n",
    "day_pred=np.arange(101,131)"
   ]
  },
  {
   "cell_type": "code",
   "execution_count": 43,
   "id": "5e9618b6-8c7d-480f-91fc-ed63b32a535f",
   "metadata": {},
   "outputs": [],
   "source": [
    "import matplotlib.pyplot as plt"
   ]
  },
  {
   "cell_type": "code",
   "execution_count": 44,
   "id": "7b39e134-4d6d-400c-b132-36ef30150f90",
   "metadata": {},
   "outputs": [
    {
     "data": {
      "text/plain": [
       "1257"
      ]
     },
     "execution_count": 44,
     "metadata": {},
     "output_type": "execute_result"
    }
   ],
   "source": [
    "len(df1)"
   ]
  },
  {
   "cell_type": "code",
   "execution_count": 45,
   "id": "e1bf215d-f78e-4493-801c-8292412d3286",
   "metadata": {},
   "outputs": [],
   "source": [
    "df3=df1.tolist()\n",
    "df3.extend(lst_output)"
   ]
  },
  {
   "cell_type": "code",
   "execution_count": 46,
   "id": "b2a0c3f8-9c9d-4aec-b278-2d07926d26e3",
   "metadata": {},
   "outputs": [
    {
     "data": {
      "text/plain": [
       "[<matplotlib.lines.Line2D at 0x1632ce437d0>]"
      ]
     },
     "execution_count": 46,
     "metadata": {},
     "output_type": "execute_result"
    },
    {
     "data": {
      "image/png": "[encoded data removed]",
      "text/plain": [
       "<Figure size 640x480 with 1 Axes>"
      ]
     },
     "metadata": {},
     "output_type": "display_data"
    }
   ],
   "source": [
    "plt.plot(day_new,scaler.inverse_transform(df1[1157:]))\n",
    "plt.plot(day_pred,scaler.inverse_transform(lst_output))"
   ]
  },
  {
   "cell_type": "code",
   "execution_count": 49,
   "id": "dcaf62f0-f6df-4e69-9205-6dbe68da440d",
   "metadata": {},
   "outputs": [
    {
     "data": {
      "text/plain": [
       "[<matplotlib.lines.Line2D at 0x1632cf8dd00>]"
      ]
     },
     "execution_count": 49,
     "metadata": {},
     "output_type": "execute_result"
    },
    {
     "data": {
      "image/png": "[encoded data removed]",
      "text/plain": [
       "<Figure size 640x480 with 1 Axes>"
      ]
     },
     "metadata": {},
     "output_type": "display_data"
    }
   ],
   "source": [
    "plt.plot(df3[1200:])"
   ]
  },
  {
   "cell_type": "code",
   "execution_count": null,
   "id": "d7e070a2-e61a-4d73-b437-c90b5dce7789",
   "metadata": {},
   "outputs": [],
   "source": []
  }
 ],
 "metadata": {
  "kernelspec": {
   "display_name": "Python 3 (ipykernel)",
   "language": "python",
   "name": "python3"
  },
  "language_info": {
   "codemirror_mode": {
    "name": "ipython",
    "version": 3
   },
   "file_extension": ".py",
   "mimetype": "text/x-python",
   "name": "python",
   "nbconvert_exporter": "python",
   "pygments_lexer": "ipython3",
   "version": "3.12.2"
  }
 },
 "nbformat": 4,
 "nbformat_minor": 5
}
